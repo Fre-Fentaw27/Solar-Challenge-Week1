{
 "cells": [
  {
   "cell_type": "code",
   "execution_count": null,
   "id": "c37f11c7",
   "metadata": {},
   "outputs": [
    {
     "name": "stdout",
     "output_type": "stream",
     "text": [
      "Stock Data:\n",
      "        date      Open      High       Low     Close  Adj Close     Volume  \\\n",
      "0 1980-12-12  0.128348  0.128906  0.128348  0.128348   0.098943  469033600   \n",
      "1 1980-12-15  0.122210  0.122210  0.121652  0.121652   0.093781  175884800   \n",
      "2 1980-12-16  0.113281  0.113281  0.112723  0.112723   0.086898  105728000   \n",
      "3 1980-12-17  0.115513  0.116071  0.115513  0.115513   0.089049   86441600   \n",
      "4 1980-12-18  0.118862  0.119420  0.118862  0.118862   0.091630   73449600   \n",
      "\n",
      "   Dividends  Stock Splits  \n",
      "0        0.0           0.0  \n",
      "1        0.0           0.0  \n",
      "2        0.0           0.0  \n",
      "3        0.0           0.0  \n",
      "4        0.0           0.0  \n",
      "\n",
      "News Data:\n",
      "   Unnamed: 0                                           headline  \\\n",
      "0           0            Stocks That Hit 52-Week Highs On Friday   \n",
      "1           1         Stocks That Hit 52-Week Highs On Wednesday   \n",
      "2           2                      71 Biggest Movers From Friday   \n",
      "3           3       46 Stocks Moving In Friday's Mid-Day Session   \n",
      "4           4  B of A Securities Maintains Neutral on Agilent...   \n",
      "\n",
      "                                                 url          publisher  \\\n",
      "0  https://www.benzinga.com/news/20/06/16190091/s...  Benzinga Insights   \n",
      "1  https://www.benzinga.com/news/20/06/16170189/s...  Benzinga Insights   \n",
      "2  https://www.benzinga.com/news/20/05/16103463/7...         Lisa Levin   \n",
      "3  https://www.benzinga.com/news/20/05/16095921/4...         Lisa Levin   \n",
      "4  https://www.benzinga.com/news/20/05/16095304/b...         Vick Meyer   \n",
      "\n",
      "                       date stock  \n",
      "0 2020-06-05 10:30:54-04:00     A  \n",
      "1 2020-06-03 10:45:20-04:00     A  \n",
      "2 2020-05-26 04:30:07-04:00     A  \n",
      "3 2020-05-22 12:45:06-04:00     A  \n",
      "4 2020-05-22 11:38:59-04:00     A  \n"
     ]
    }
   ],
   "source": [
    "import pandas as pd\n",
    "\n",
    "# ============================\n",
    "# === Load and normalize date ===\n",
    "# ============================\n",
    "\n",
    "# Load stock data\n",
    "stock_df = pd.read_csv('../yfinance_data/AAPL_historical_data.csv', parse_dates=['Date'])\n",
    "stock_df.rename(columns={'Date': 'date'}, inplace=True)\n",
    "\n",
    "# Load news data\n",
    "news_df = pd.read_csv('../yfinance_data/raw_analyst_ratings.csv')\n",
    "news_df['date'] = pd.to_datetime(news_df['date'], errors='coerce')\n",
    "\n",
    "\n",
    "\n",
    "# Preview\n",
    "print(\"Stock Data:\")\n",
    "print(stock_df.head())\n",
    "\n",
    "print(\"\\nNews Data:\")\n",
    "print(news_df.head())\n"
   ]
  },
  {
   "cell_type": "code",
   "execution_count": null,
   "id": "d7cfcaea",
   "metadata": {},
   "outputs": [
    {
     "name": "stdout",
     "output_type": "stream",
     "text": [
      "Stock Data:\n",
      "          Date      Open      High       Low     Close  Adj Close     Volume  \\\n",
      "0  1980-12-12  0.128348  0.128906  0.128348  0.128348   0.098943  469033600   \n",
      "1  1980-12-15  0.122210  0.122210  0.121652  0.121652   0.093781  175884800   \n",
      "2  1980-12-16  0.113281  0.113281  0.112723  0.112723   0.086898  105728000   \n",
      "3  1980-12-17  0.115513  0.116071  0.115513  0.115513   0.089049   86441600   \n",
      "4  1980-12-18  0.118862  0.119420  0.118862  0.118862   0.091630   73449600   \n",
      "\n",
      "   Dividends  Stock Splits  \n",
      "0        0.0           0.0  \n",
      "1        0.0           0.0  \n",
      "2        0.0           0.0  \n",
      "3        0.0           0.0  \n",
      "4        0.0           0.0  \n",
      "\n",
      "News Data:\n",
      "    Unnamed: 0                                           headline  \\\n",
      "0           0            Stocks That Hit 52-Week Highs On Friday   \n",
      "1           1         Stocks That Hit 52-Week Highs On Wednesday   \n",
      "2           2                      71 Biggest Movers From Friday   \n",
      "3           3       46 Stocks Moving In Friday's Mid-Day Session   \n",
      "4           4  B of A Securities Maintains Neutral on Agilent...   \n",
      "\n",
      "                                                 url          publisher  \\\n",
      "0  https://www.benzinga.com/news/20/06/16190091/s...  Benzinga Insights   \n",
      "1  https://www.benzinga.com/news/20/06/16170189/s...  Benzinga Insights   \n",
      "2  https://www.benzinga.com/news/20/05/16103463/7...         Lisa Levin   \n",
      "3  https://www.benzinga.com/news/20/05/16095921/4...         Lisa Levin   \n",
      "4  https://www.benzinga.com/news/20/05/16095304/b...         Vick Meyer   \n",
      "\n",
      "                        date stock  \n",
      "0  2020-06-05 10:30:54-04:00     A  \n",
      "1  2020-06-03 10:45:20-04:00     A  \n",
      "2  2020-05-26 04:30:07-04:00     A  \n",
      "3  2020-05-22 12:45:06-04:00     A  \n",
      "4  2020-05-22 11:38:59-04:00     A  \n"
     ]
    }
   ],
   "source": [
    "import pandas as pd\n",
    "\n",
    "# Load both CSVs into different variables\n",
    "stock_df = pd.read_csv(\"../yfinance_data/AAPL_historical_data.csv\")\n",
    "news_df = pd.read_csv(\"../yfinance_data/raw_analyst_ratings.csv\")\n",
    "\n",
    "# Show first few rows of each\n",
    "print(\"Stock Data:\\n\", stock_df.head())\n",
    "print(\"\\nNews Data:\\n\", news_df.head())\n",
    "\n"
   ]
  },
  {
   "cell_type": "code",
   "execution_count": null,
   "id": "4c9ae2f7",
   "metadata": {},
   "outputs": [
    {
     "name": "stdout",
     "output_type": "stream",
     "text": [
      "\n",
      "Stock date range: 1980-12-12 to 2024-07-30\n",
      "News date range: 2011-04-27 to 2020-06-11\n",
      "Overlap period: 2011-04-27 to 2020-06-11\n"
     ]
    }
   ],
   "source": [
    "# ===========================\n",
    "# === Display Date range and get overlap period===\n",
    "# ===========================\n",
    "\n",
    "# Step 2: Drop rows with invalid dates (optional but recommended)\n",
    "stock_df = stock_df.dropna(subset=['Date'])\n",
    "news_df = news_df.dropna(subset=['date'])\n",
    "\n",
    "# Step 3: Display date ranges\n",
    "print(\"\\nStock date range:\", stock_df['Date'].min().date(), \"to\", stock_df['Date'].max().date())\n",
    "print(\"News date range:\", news_df['date'].min().date(), \"to\", news_df['date'].max().date())\n",
    "\n",
    "# Step 4: Get overlap period\n",
    "news_df['date'] = news_df['date'].dt.tz_localize(None)\n",
    "start_date = max(stock_df['Date'].min(), news_df['date'].min()).date()\n",
    "end_date = min(stock_df['Date'].max(), news_df['date'].max()).date()\n",
    "\n",
    "print(\"Overlap period:\", start_date, \"to\", end_date)"
   ]
  },
  {
   "cell_type": "code",
   "execution_count": null,
   "id": "3f3ec358",
   "metadata": {},
   "outputs": [
    {
     "name": "stdout",
     "output_type": "stream",
     "text": [
      "                                            headline  sentiment  \\\n",
      "0            Stocks That Hit 52-Week Highs On Friday       0.00   \n",
      "1         Stocks That Hit 52-Week Highs On Wednesday       0.00   \n",
      "2                      71 Biggest Movers From Friday       0.00   \n",
      "3       46 Stocks Moving In Friday's Mid-Day Session       0.00   \n",
      "4  B of A Securities Maintains Neutral on Agilent...       0.00   \n",
      "5  CFRA Maintains Hold on Agilent Technologies, L...       0.00   \n",
      "6  UBS Maintains Neutral on Agilent Technologies,...       0.00   \n",
      "7  Agilent Technologies shares are trading higher...       0.25   \n",
      "8  Wells Fargo Maintains Overweight on Agilent Te...       0.00   \n",
      "9         10 Biggest Price Target Changes For Friday       0.00   \n",
      "\n",
      "  sentiment_label  \n",
      "0         Neutral  \n",
      "1         Neutral  \n",
      "2         Neutral  \n",
      "3         Neutral  \n",
      "4         Neutral  \n",
      "5         Neutral  \n",
      "6         Neutral  \n",
      "7        Positive  \n",
      "8         Neutral  \n",
      "9         Neutral  \n"
     ]
    }
   ],
   "source": [
    "# ===========================\n",
    "# === Sentiment Analysis===\n",
    "# ===========================\n",
    "\n",
    "from textblob import TextBlob\n",
    "# Define function\n",
    "def get_sentiment(text):\n",
    "    return TextBlob(text).sentiment.polarity\n",
    "\n",
    "# Apply sentiment analysis\n",
    "news_df['sentiment'] = news_df['headline'].apply(get_sentiment)\n",
    "\n",
    "# Categorize sentiment\n",
    "def sentiment_label(polarity):\n",
    "    if polarity > 0.1:\n",
    "        return 'Positive'\n",
    "    elif polarity < -0.1:\n",
    "        return 'Negative'\n",
    "    else:\n",
    "        return 'Neutral'\n",
    "\n",
    "news_df['sentiment_label'] = news_df['sentiment'].apply(sentiment_label)\n",
    "\n",
    "# Display results\n",
    "print(news_df[['headline', 'sentiment', 'sentiment_label']].head(10))"
   ]
  },
  {
   "cell_type": "code",
   "execution_count": null,
   "id": "4c903348",
   "metadata": {},
   "outputs": [
    {
     "name": "stdout",
     "output_type": "stream",
     "text": [
      "         Date     Close  daily_return\n",
      "0  1980-12-12  0.128348           NaN\n",
      "1  1980-12-15  0.121652     -0.052171\n",
      "2  1980-12-16  0.112723     -0.073398\n",
      "3  1980-12-17  0.115513      0.024751\n",
      "4  1980-12-18  0.118862      0.028992\n"
     ]
    }
   ],
   "source": [
    "# ===========================\n",
    "# === ACompute Daily Stock Returns===\n",
    "# ===========================\n",
    "\n",
    "# Ensure the stock data is sorted by date\n",
    "stock_df = stock_df.sort_values('Date')\n",
    "\n",
    "# Calculate daily percentage change in 'Close' prices\n",
    "stock_df['daily_return'] = stock_df['Close'].pct_change()\n",
    "\n",
    "# Show first few rows to verify\n",
    "print(stock_df[['Date', 'Close', 'daily_return']].head())\n"
   ]
  },
  {
   "cell_type": "code",
   "execution_count": null,
   "id": "7a6bee0f",
   "metadata": {},
   "outputs": [],
   "source": [
    "# ===========================\n",
    "# === Aggregate Sentiment Scores by Date===\n",
    "# ===========================\n",
    "\n",
    "from textblob import TextBlob\n",
    "\n",
    "# If not yet done: compute sentiment polarity\n",
    "news_df['sentiment'] = news_df['headline'].apply(lambda x: TextBlob(str(x)).sentiment.polarity)\n",
    "\n",
    "# Group average sentiment per day\n",
    "daily_sentiment = news_df.groupby('date')['sentiment'].mean().reset_index()\n",
    "daily_sentiment.columns = ['Date', 'daily_sentiment']\n"
   ]
  },
  {
   "cell_type": "code",
   "execution_count": null,
   "id": "fcfbb49b",
   "metadata": {},
   "outputs": [
    {
     "name": "stdout",
     "output_type": "stream",
     "text": [
      "Empty DataFrame\n",
      "Columns: [Date, daily_return, daily_sentiment]\n",
      "Index: []\n"
     ]
    }
   ],
   "source": [
    "# ===========================\n",
    "# === Merge the Sentiment and Stock Returns===\n",
    "# ===========================\n",
    "\n",
    "# Merge both DataFrames on 'Date'\n",
    "merged_df = pd.merge(stock_df, daily_sentiment, on='Date', how='inner')\n",
    "\n",
    "# Show sample of merged data\n",
    "print(merged_df[['Date', 'daily_return', 'daily_sentiment']].head())\n"
   ]
  },
  {
   "cell_type": "code",
   "execution_count": null,
   "id": "8b48c573",
   "metadata": {},
   "outputs": [
    {
     "name": "stdout",
     "output_type": "stream",
     "text": [
      "Correlation between stock returns and sentiment: nan\n"
     ]
    }
   ],
   "source": [
    "# ===========================\n",
    "# === Correlation Analysis===\n",
    "# ===========================\n",
    "\n",
    "# Drop NA values (from pct_change and sentiment)\n",
    "merged_df = merged_df.dropna(subset=['daily_return', 'daily_sentiment'])\n",
    "\n",
    "# Compute correlation\n",
    "correlation = merged_df['daily_return'].corr(merged_df['daily_sentiment'])\n",
    "print(f\"Correlation between stock returns and sentiment: {correlation:.4f}\")\n"
   ]
  },
  {
   "cell_type": "code",
   "execution_count": null,
   "id": "d186743a",
   "metadata": {},
   "outputs": [
    {
     "data": {
      "image/png": "[encoded data removed]",
      "text/plain": [
       "<Figure size 640x480 with 1 Axes>"
      ]
     },
     "metadata": {},
     "output_type": "display_data"
    }
   ],
   "source": [
    "# ===========================\n",
    "# === Visualize the Relationship ===\n",
    "# ===========================\n",
    "\n",
    "import matplotlib.pyplot as plt\n",
    "import seaborn as sns\n",
    "\n",
    "sns.scatterplot(data=merged_df, x='daily_sentiment', y='daily_return')\n",
    "plt.title(\"Daily Stock Return vs. Sentiment\")\n",
    "plt.xlabel(\"Daily News Sentiment\")\n",
    "plt.ylabel(\"Daily Stock Return\")\n",
    "plt.grid(True)\n",
    "plt.show()\n"
   ]
  },
  {
   "cell_type": "code",
   "execution_count": 30,
   "id": "7dc80717",
   "metadata": {},
   "outputs": [],
   "source": [
    "correlation = merged_df['daily_return'].corr(merged_df['daily_sentiment'])\n"
   ]
  },
  {
   "cell_type": "code",
   "execution_count": 31,
   "id": "08208c95",
   "metadata": {},
   "outputs": [
    {
     "data": {
      "image/png": "[encoded data removed]",
      "text/plain": [
       "<Figure size 640x480 with 1 Axes>"
      ]
     },
     "metadata": {},
     "output_type": "display_data"
    }
   ],
   "source": [
    "import seaborn as sns\n",
    "import matplotlib.pyplot as plt\n",
    "import pandas as pd\n",
    "\n",
    "# Create a simple DataFrame with one row\n",
    "correlation_df = pd.DataFrame({\n",
    "    'stock': ['AAPL'],\n",
    "    'correlation': [correlation]\n",
    "})\n",
    "\n",
    "# Plot\n",
    "sns.barplot(x='stock', y='correlation', data=correlation_df)\n",
    "plt.title(\"Correlation Between Sentiment and Daily Return\")\n",
    "plt.ylabel(\"Correlation Coefficient\")\n",
    "plt.xlabel(\"Stock\")\n",
    "plt.ylim(-1, 1)  # correlation ranges from -1 to 1\n",
    "plt.grid(True)\n",
    "plt.show()\n"
   ]
  },
  {
   "cell_type": "code",
   "execution_count": 40,
   "id": "cfa8beb6",
   "metadata": {},
   "outputs": [
    {
     "name": "stdout",
     "output_type": "stream",
     "text": [
      "         Date  avg_sentiment\n",
      "0  2011-04-27       0.000000\n",
      "1  2011-04-28       0.068182\n",
      "2  2011-04-29       0.166667\n",
      "3  2011-04-30       0.500000\n",
      "4  2011-05-01       0.000000\n"
     ]
    }
   ],
   "source": [
    "# Drop time info and keep only the date\n",
    "news_df['date_only'] = pd.to_datetime(news_df['date']).dt.date\n",
    "\n",
    "# Group by date and calculate average sentiment\n",
    "daily_sentiment = news_df.groupby('date_only')['sentiment'].mean().reset_index()\n",
    "daily_sentiment.rename(columns={'date_only': 'Date', 'sentiment': 'avg_sentiment'}, inplace=True)\n",
    "\n",
    "# Preview\n",
    "print(daily_sentiment.head())"
   ]
  },
  {
   "cell_type": "code",
   "execution_count": 50,
   "id": "4452c569",
   "metadata": {},
   "outputs": [
    {
     "name": "stdout",
     "output_type": "stream",
     "text": [
      "Empty DataFrame\n",
      "Columns: [Date, stock, daily_return, avg_sentiment]\n",
      "Index: []\n"
     ]
    }
   ],
   "source": [
    "# Assuming you have stock_df and daily_sentiment already prepared\n",
    "\n",
    "# Remove timezone from stock_df 'Date'\n",
    "stock_df['Date'] = pd.to_datetime(stock_df['Date']).dt.tz_localize(None)\n",
    "\n",
    "# Remove timezone from daily_sentiment 'Date'\n",
    "daily_sentiment['Date'] = pd.to_datetime(daily_sentiment['Date']).dt.tz_localize(None)\n",
    "\n",
    "# Prepare stock_all DataFrame\n",
    "stock_all = stock_df[['Date', 'stock', 'daily_return']]\n",
    "\n",
    "# Merge on 'Date' and 'stock'\n",
    "merged_df = pd.merge(stock_all, daily_sentiment, on=['Date', 'stock'], how='inner')\n",
    "\n",
    "print(merged_df[['Date', 'stock', 'daily_return', 'avg_sentiment']].head())\n"
   ]
  },
  {
   "cell_type": "code",
   "execution_count": 48,
   "id": "4cb3ff72",
   "metadata": {},
   "outputs": [
    {
     "name": "stdout",
     "output_type": "stream",
     "text": [
      "Index(['Date', 'stock', 'daily_return', 'avg_sentiment'], dtype='object')\n",
      "Empty DataFrame\n",
      "Columns: [Date, stock, daily_return, avg_sentiment]\n",
      "Index: []\n"
     ]
    }
   ],
   "source": [
    "# Merge on both Date and stock\n",
    "merged_df = pd.merge(stock_all, daily_sentiment, on=['Date', 'stock'], how='inner')\n",
    "\n",
    "# Check columns after merge\n",
    "print(merged_df.columns)\n",
    "\n",
    "# Display the desired columns\n",
    "print(merged_df[['Date', 'stock', 'daily_return', 'avg_sentiment']].head())\n"
   ]
  },
  {
   "cell_type": "code",
   "execution_count": 49,
   "id": "0b025e45",
   "metadata": {},
   "outputs": [
    {
     "data": {
      "image/png": "[encoded data removed]",
      "text/plain": [
       "<Figure size 640x480 with 1 Axes>"
      ]
     },
     "metadata": {},
     "output_type": "display_data"
    }
   ],
   "source": [
    "import seaborn as sns\n",
    "import matplotlib.pyplot as plt\n",
    "\n",
    "# Scatter plot\n",
    "sns.scatterplot(data=merged_df, x='avg_sentiment', y='daily_return', alpha=0.5)\n",
    "plt.title('Stock Daily Return vs. News Sentiment')\n",
    "plt.xlabel('Average Sentiment')\n",
    "plt.ylabel('Daily Stock Return')\n",
    "plt.grid(True)\n",
    "plt.show()"
   ]
  },
  {
   "cell_type": "code",
   "execution_count": 33,
   "id": "2d737d9f",
   "metadata": {},
   "outputs": [
    {
     "name": "stdout",
     "output_type": "stream",
     "text": [
      "Detected stock tickers: ['AAPL', 'AMZN', 'GOOG', 'META', 'MSFT', 'NVDA', 'TSLA']\n"
     ]
    }
   ],
   "source": [
    "import os\n",
    "\n",
    "# List all files in the directory\n",
    "files = os.listdir(\"../yfinance_data\")\n",
    "\n",
    "# Extract stock tickers from files that match the pattern *_historical_data.csv\n",
    "stock_list = [f.split('_')[0] for f in files if f.endswith(\"_historical_data.csv\")]\n",
    "\n",
    "print(\"Detected stock tickers:\", stock_list)\n"
   ]
  },
  {
   "cell_type": "code",
   "execution_count": 37,
   "id": "0677dcb0",
   "metadata": {},
   "outputs": [
    {
     "name": "stdout",
     "output_type": "stream",
     "text": [
      "  stock  correlation\n",
      "0  AAPL     0.025741\n",
      "1  AMZN     0.008853\n",
      "2  GOOG     0.028742\n",
      "3  META     0.021316\n",
      "4  MSFT     0.019517\n",
      "5  NVDA     0.003821\n",
      "6  TSLA     0.010085\n"
     ]
    }
   ],
   "source": [
    "import pandas as pd\n",
    "\n",
    "# Load the news data once\n",
    "news_df = pd.read_csv(\"../yfinance_data/raw_analyst_ratings.csv\")\n",
    "news_df['date'] = pd.to_datetime(news_df['date'], errors='coerce')\n",
    "news_df.dropna(subset=['date'], inplace=True)\n",
    "\n",
    "# If sentiment is not calculated yet, use this (make sure TextBlob is installed)\n",
    "from textblob import TextBlob\n",
    "news_df['sentiment'] = news_df['headline'].astype(str).apply(lambda x: TextBlob(x).sentiment.polarity)\n",
    "\n",
    "\n",
    "correlations = []\n",
    "stock_list = ['AAPL', 'AMZN', 'GOOG', 'META', 'MSFT', 'NVDA', 'TSLA']\n",
    "\n",
    "for stock in stock_list:\n",
    "    try:\n",
    "        # Load stock data\n",
    "        stock_df = pd.read_csv(f\"../yfinance_data/{stock}_historical_data.csv\")\n",
    "        stock_df['Date'] = pd.to_datetime(stock_df['Date'], errors='coerce')\n",
    "        stock_df.dropna(subset=['Date', 'Close'], inplace=True)\n",
    "\n",
    "        # Calculate daily returns\n",
    "        stock_df['return'] = stock_df['Close'].pct_change()\n",
    "        stock_df['date'] = stock_df['Date'].dt.date\n",
    "\n",
    "        # Merge with news sentiment on date\n",
    "        merged_df = pd.merge(stock_df, news_df, left_on='date', right_on=news_df['date'].dt.date)\n",
    "        \n",
    "        # Drop rows with missing sentiment or returns\n",
    "        merged_df.dropna(subset=['return', 'sentiment'], inplace=True)\n",
    "\n",
    "        # Compute correlation\n",
    "        corr = merged_df['return'].corr(merged_df['sentiment'])\n",
    "\n",
    "        correlations.append({'stock': stock, 'correlation': corr})\n",
    "    except Exception as e:\n",
    "        print(f\"Error processing {stock}: {e}\")\n",
    "\n",
    "# Create DataFrame\n",
    "correlations = pd.DataFrame(correlations)\n",
    "print(correlations)\n"
   ]
  },
  {
   "cell_type": "code",
   "execution_count": 38,
   "id": "6e82341a",
   "metadata": {},
   "outputs": [
    {
     "data": {
      "image/png": "[encoded data removed]",
      "text/plain": [
       "<Figure size 640x480 with 1 Axes>"
      ]
     },
     "metadata": {},
     "output_type": "display_data"
    }
   ],
   "source": [
    "import seaborn as sns\n",
    "import matplotlib.pyplot as plt\n",
    "\n",
    "sns.barplot(x='stock', y='correlation', data=correlations)\n",
    "plt.title(\"Correlation Between Sentiment and Daily Return by Stock\")\n",
    "plt.ylabel(\"Correlation Coefficient\")\n",
    "plt.xlabel(\"Stock\")\n",
    "plt.xticks(rotation=45)\n",
    "plt.grid(True)\n",
    "plt.show()"
   ]
  }
 ],
 "metadata": {
  "kernelspec": {
   "display_name": ".venv",
   "language": "python",
   "name": "python3"
  },
  "language_info": {
   "codemirror_mode": {
    "name": "ipython",
    "version": 3
   },
   "file_extension": ".py",
   "mimetype": "text/x-python",
   "name": "python",
   "nbconvert_exporter": "python",
   "pygments_lexer": "ipython3",
   "version": "3.12.4"
  }
 },
 "nbformat": 4,
 "nbformat_minor": 5
}
